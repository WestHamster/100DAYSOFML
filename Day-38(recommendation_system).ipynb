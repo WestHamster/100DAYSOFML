{
  "nbformat": 4,
  "nbformat_minor": 0,
  "metadata": {
    "colab": {
      "name": "recommendation-system.ipynb",
      "version": "0.3.2",
      "provenance": [],
      "collapsed_sections": [],
      "include_colab_link": true
    },
    "kernelspec": {
      "display_name": "Python 3",
      "language": "python",
      "name": "python3"
    }
  },
  "cells": [
    {
      "cell_type": "markdown",
      "metadata": {
        "id": "view-in-github",
        "colab_type": "text"
      },
      "source": [
        "<a href=\"https://colab.research.google.com/github/WestHamster/100DAYSOFML/blob/master/Day-38(recommendation_system).ipynb\" target=\"_parent\"><img src=\"https://colab.research.google.com/assets/colab-badge.svg\" alt=\"Open In Colab\"/></a>"
      ]
    },
    {
      "metadata": {
        "_cell_guid": "b1076dfc-b9ad-4769-8c92-a6c4dae69d19",
        "_uuid": "8f2839f25d086af736a60e9eeb907d3b93b6e0e5",
        "id": "6Rm7lQqEXev8",
        "colab_type": "code",
        "colab": {},
        "outputId": "c1e7a9a8-3339-40ff-b232-71670b276d4a"
      },
      "cell_type": "code",
      "source": [
        "# This Python 3 environment comes with many helpful analytics libraries installed\n",
        "# It is defined by the kaggle/python docker image: https://github.com/kaggle/docker-python\n",
        "# For example, here's several helpful packages to load in \n",
        "\n",
        "import numpy as np # linear algebra\n",
        "import pandas as pd # data processing, CSV file I/O (e.g. pd.read_csv)\n",
        "import seaborn as sn\n",
        "import matplotlib.pyplot as plt\n",
        "\n",
        "# Input data files are available in the \"../input/\" directory.\n",
        "# For example, running this (by clicking run or pressing Shift+Enter) will list the files in the input directory\n",
        "\n",
        "import os\n",
        "print(os.listdir(\"../input\"))\n",
        "\n",
        "\n",
        "import gc\n",
        "\n",
        "\n",
        "# Any results you write to the current directory are saved as output."
      ],
      "execution_count": 0,
      "outputs": [
        {
          "output_type": "stream",
          "text": [
            "['the-movies-dataset', 'tmdb-movie-metadata']\n"
          ],
          "name": "stdout"
        }
      ]
    },
    {
      "metadata": {
        "_cell_guid": "79c7e3d0-c299-4dcb-8224-4455121ee9b0",
        "_uuid": "d629ff2d2480ee46fbb7e2d37f6b5fab8052498a",
        "id": "y_Y3l7pyXewV",
        "colab_type": "code",
        "colab": {},
        "outputId": "52b322a8-39a6-4a52-a016-d0ff7caafe3d"
      },
      "cell_type": "code",
      "source": [
        "data_rating = pd.read_csv('../input/the-movies-dataset/ratings.csv')\n",
        "data_rating.head()\n",
        "data_rating = data_rating[:1110000]\n",
        "gc.collect()\n",
        "print(len(data_rating))"
      ],
      "execution_count": 0,
      "outputs": [
        {
          "output_type": "stream",
          "text": [
            "1110000\n"
          ],
          "name": "stdout"
        }
      ]
    },
    {
      "metadata": {
        "id": "cOTWvxPYXewl",
        "colab_type": "code",
        "colab": {},
        "outputId": "c06f16ca-6dfa-4199-9081-d36b4b0e51ab"
      },
      "cell_type": "code",
      "source": [
        "\n",
        "rating = data_rating['rating']\n",
        "sn.countplot(rating)\n",
        "plt.show()"
      ],
      "execution_count": 0,
      "outputs": [
        {
          "output_type": "display_data",
          "data": {
            "image/png": "[encoded data removed]",
            "text/plain": [
              "<Figure size 432x288 with 1 Axes>"
            ]
          },
          "metadata": {
            "tags": []
          }
        }
      ]
    },
    {
      "metadata": {
        "id": "0Cf0YhIJXewz",
        "colab_type": "code",
        "colab": {},
        "outputId": "97f3b324-f6be-45d2-993d-5ea25bbb6dec"
      },
      "cell_type": "code",
      "source": [
        "from surprise import SVD, Reader, Dataset,evaluate\n",
        "\n",
        "reader = Reader()\n",
        "data = Dataset.load_from_df(data_rating[['userId','movieId','rating']], reader)\n",
        "\n",
        "gc.collect()"
      ],
      "execution_count": 0,
      "outputs": [
        {
          "output_type": "execute_result",
          "data": {
            "text/plain": [
              "2761"
            ]
          },
          "metadata": {
            "tags": []
          },
          "execution_count": 4
        }
      ]
    },
    {
      "metadata": {
        "id": "TtPhTZsJXexA",
        "colab_type": "code",
        "colab": {},
        "outputId": "8717f49f-8d7b-441a-bbc3-3ef86ab619b8"
      },
      "cell_type": "code",
      "source": [
        "data.split(n_folds=3)\n",
        "gc.collect()"
      ],
      "execution_count": 0,
      "outputs": [
        {
          "output_type": "execute_result",
          "data": {
            "text/plain": [
              "0"
            ]
          },
          "metadata": {
            "tags": []
          },
          "execution_count": 5
        }
      ]
    },
    {
      "metadata": {
        "id": "qdq4Hd_4XexN",
        "colab_type": "code",
        "colab": {},
        "outputId": "27a85dfd-34b1-4aec-866c-b5f88bcdd5e1"
      },
      "cell_type": "code",
      "source": [
        "svd = SVD()\n",
        "evaluate(svd, data, measures=['RMSE', 'MAE'])\n",
        "gc.collect()"
      ],
      "execution_count": 0,
      "outputs": [
        {
          "output_type": "stream",
          "text": [
            "/opt/conda/lib/python3.6/site-packages/surprise/evaluate.py:66: UserWarning: The evaluate() method is deprecated. Please use model_selection.cross_validate() instead.\n",
            "  'model_selection.cross_validate() instead.', UserWarning)\n",
            "/opt/conda/lib/python3.6/site-packages/surprise/dataset.py:193: UserWarning: Using data.split() or using load_from_folds() without using a CV iterator is now deprecated. \n",
            "  UserWarning)\n"
          ],
          "name": "stderr"
        },
        {
          "output_type": "stream",
          "text": [
            "Evaluating RMSE, MAE of algorithm SVD.\n",
            "\n",
            "------------\n",
            "Fold 1\n",
            "RMSE: 0.8447\n",
            "MAE:  0.6439\n",
            "------------\n",
            "Fold 2\n",
            "RMSE: 0.8460\n",
            "MAE:  0.6452\n",
            "------------\n",
            "Fold 3\n",
            "RMSE: 0.8477\n",
            "MAE:  0.6464\n",
            "------------\n",
            "------------\n",
            "Mean RMSE: 0.8462\n",
            "Mean MAE : 0.6452\n",
            "------------\n",
            "------------\n"
          ],
          "name": "stdout"
        },
        {
          "output_type": "execute_result",
          "data": {
            "text/plain": [
              "0"
            ]
          },
          "metadata": {
            "tags": []
          },
          "execution_count": 6
        }
      ]
    },
    {
      "metadata": {
        "id": "h7wQUP-AXexb",
        "colab_type": "code",
        "colab": {},
        "outputId": "55021d23-8c33-4ae0-c4aa-42e528f9da6b"
      },
      "cell_type": "code",
      "source": [
        "trainset = data.build_full_trainset()\n",
        "svd.fit(trainset)\n",
        "\n",
        "gc.collect()"
      ],
      "execution_count": 0,
      "outputs": [
        {
          "output_type": "execute_result",
          "data": {
            "text/plain": [
              "0"
            ]
          },
          "metadata": {
            "tags": []
          },
          "execution_count": 7
        }
      ]
    },
    {
      "metadata": {
        "id": "XBu9b7C3Xexs",
        "colab_type": "code",
        "colab": {},
        "outputId": "b9bf3387-b7ce-485f-c48d-d9f8124c8807"
      },
      "cell_type": "code",
      "source": [
        "data_rating[data_rating['userId'] == 3]"
      ],
      "execution_count": 0,
      "outputs": [
        {
          "output_type": "execute_result",
          "data": {
            "text/html": [
              "<div>\n",
              "<style scoped>\n",
              "    .dataframe tbody tr th:only-of-type {\n",
              "        vertical-align: middle;\n",
              "    }\n",
              "\n",
              "    .dataframe tbody tr th {\n",
              "        vertical-align: top;\n",
              "    }\n",
              "\n",
              "    .dataframe thead th {\n",
              "        text-align: right;\n",
              "    }\n",
              "</style>\n",
              "<table border=\"1\" class=\"dataframe\">\n",
              "  <thead>\n",
              "    <tr style=\"text-align: right;\">\n",
              "      <th></th>\n",
              "      <th>userId</th>\n",
              "      <th>movieId</th>\n",
              "      <th>rating</th>\n",
              "      <th>timestamp</th>\n",
              "    </tr>\n",
              "  </thead>\n",
              "  <tbody>\n",
              "    <tr>\n",
              "      <th>49</th>\n",
              "      <td>3</td>\n",
              "      <td>480</td>\n",
              "      <td>3.0</td>\n",
              "      <td>1048076925</td>\n",
              "    </tr>\n",
              "    <tr>\n",
              "      <th>50</th>\n",
              "      <td>3</td>\n",
              "      <td>500</td>\n",
              "      <td>2.0</td>\n",
              "      <td>1048076945</td>\n",
              "    </tr>\n",
              "    <tr>\n",
              "      <th>51</th>\n",
              "      <td>3</td>\n",
              "      <td>527</td>\n",
              "      <td>4.0</td>\n",
              "      <td>1048076900</td>\n",
              "    </tr>\n",
              "    <tr>\n",
              "      <th>52</th>\n",
              "      <td>3</td>\n",
              "      <td>858</td>\n",
              "      <td>4.0</td>\n",
              "      <td>1048076945</td>\n",
              "    </tr>\n",
              "    <tr>\n",
              "      <th>53</th>\n",
              "      <td>3</td>\n",
              "      <td>1092</td>\n",
              "      <td>3.0</td>\n",
              "      <td>1048076995</td>\n",
              "    </tr>\n",
              "    <tr>\n",
              "      <th>54</th>\n",
              "      <td>3</td>\n",
              "      <td>1097</td>\n",
              "      <td>3.0</td>\n",
              "      <td>1048076961</td>\n",
              "    </tr>\n",
              "    <tr>\n",
              "      <th>55</th>\n",
              "      <td>3</td>\n",
              "      <td>1270</td>\n",
              "      <td>3.0</td>\n",
              "      <td>1048076976</td>\n",
              "    </tr>\n",
              "    <tr>\n",
              "      <th>56</th>\n",
              "      <td>3</td>\n",
              "      <td>1968</td>\n",
              "      <td>3.0</td>\n",
              "      <td>1048077048</td>\n",
              "    </tr>\n",
              "    <tr>\n",
              "      <th>57</th>\n",
              "      <td>3</td>\n",
              "      <td>3101</td>\n",
              "      <td>3.0</td>\n",
              "      <td>1048076830</td>\n",
              "    </tr>\n",
              "    <tr>\n",
              "      <th>58</th>\n",
              "      <td>3</td>\n",
              "      <td>4474</td>\n",
              "      <td>3.0</td>\n",
              "      <td>1048077030</td>\n",
              "    </tr>\n",
              "  </tbody>\n",
              "</table>\n",
              "</div>"
            ],
            "text/plain": [
              "    userId  movieId  rating   timestamp\n",
              "49       3      480     3.0  1048076925\n",
              "50       3      500     2.0  1048076945\n",
              "51       3      527     4.0  1048076900\n",
              "52       3      858     4.0  1048076945\n",
              "53       3     1092     3.0  1048076995\n",
              "54       3     1097     3.0  1048076961\n",
              "55       3     1270     3.0  1048076976\n",
              "56       3     1968     3.0  1048077048\n",
              "57       3     3101     3.0  1048076830\n",
              "58       3     4474     3.0  1048077030"
            ]
          },
          "metadata": {
            "tags": []
          },
          "execution_count": 8
        }
      ]
    },
    {
      "metadata": {
        "id": "THrt1jSiXeyA",
        "colab_type": "code",
        "colab": {},
        "outputId": "1d9dad40-f367-4b78-a7cc-abb71f4f5abc"
      },
      "cell_type": "code",
      "source": [
        "svd.predict(1, 302, 3)\n",
        "#gc.collect()"
      ],
      "execution_count": 0,
      "outputs": [
        {
          "output_type": "execute_result",
          "data": {
            "text/plain": [
              "Prediction(uid=1, iid=302, r_ui=3, est=4.040988722893918, details={'was_impossible': False})"
            ]
          },
          "metadata": {
            "tags": []
          },
          "execution_count": 9
        }
      ]
    },
    {
      "metadata": {
        "id": "0GS7zIyoXeyL",
        "colab_type": "code",
        "colab": {},
        "outputId": "78a122b4-2bdd-4619-f8f0-46695a9a2d75"
      },
      "cell_type": "code",
      "source": [
        "os.listdir('../input')\n",
        "os.listdir('../input/tmdb-movie-metadata')"
      ],
      "execution_count": 0,
      "outputs": [
        {
          "output_type": "execute_result",
          "data": {
            "text/plain": [
              "['tmdb_5000_credits.csv', 'tmdb_5000_movies.csv']"
            ]
          },
          "metadata": {
            "tags": []
          },
          "execution_count": 10
        }
      ]
    },
    {
      "metadata": {
        "id": "893nPGNwXeyY",
        "colab_type": "code",
        "colab": {},
        "outputId": "4f7b3feb-e0c7-42af-ef5b-a4b285823e45"
      },
      "cell_type": "code",
      "source": [
        "tmdb_data_cred = pd.read_csv('../input/tmdb-movie-metadata/tmdb_5000_credits.csv')\n",
        "print(tmdb_data_cred.columns)\n",
        "\n",
        "print()\n",
        "\n",
        "tmdb_data_mov = pd.read_csv('../input/tmdb-movie-metadata/tmdb_5000_movies.csv')\n",
        "print(tmdb_data_mov.columns)"
      ],
      "execution_count": 0,
      "outputs": [
        {
          "output_type": "stream",
          "text": [
            "Index(['movie_id', 'title', 'cast', 'crew'], dtype='object')\n",
            "\n",
            "Index(['budget', 'genres', 'homepage', 'id', 'keywords', 'original_language',\n",
            "       'original_title', 'overview', 'popularity', 'production_companies',\n",
            "       'production_countries', 'release_date', 'revenue', 'runtime',\n",
            "       'spoken_languages', 'status', 'tagline', 'title', 'vote_average',\n",
            "       'vote_count'],\n",
            "      dtype='object')\n"
          ],
          "name": "stdout"
        }
      ]
    },
    {
      "metadata": {
        "id": "nUDGJZPHXeym",
        "colab_type": "code",
        "colab": {}
      },
      "cell_type": "code",
      "source": [
        "tmdb_data_cred.columns = ['id','tittle','cast','crew']\n",
        "tmdb_data_mov = tmdb_data_mov.merge(tmdb_data_cred,on='id')"
      ],
      "execution_count": 0,
      "outputs": []
    },
    {
      "metadata": {
        "id": "p36ovevZXeyt",
        "colab_type": "code",
        "colab": {},
        "outputId": "241183cd-75f1-4aae-8031-40bb69ba7ca2"
      },
      "cell_type": "code",
      "source": [
        "tmdb_data_mov.head()"
      ],
      "execution_count": 0,
      "outputs": [
        {
          "output_type": "execute_result",
          "data": {
            "text/html": [
              "<div>\n",
              "<style scoped>\n",
              "    .dataframe tbody tr th:only-of-type {\n",
              "        vertical-align: middle;\n",
              "    }\n",
              "\n",
              "    .dataframe tbody tr th {\n",
              "        vertical-align: top;\n",
              "    }\n",
              "\n",
              "    .dataframe thead th {\n",
              "        text-align: right;\n",
              "    }\n",
              "</style>\n",
              "<table border=\"1\" class=\"dataframe\">\n",
              "  <thead>\n",
              "    <tr style=\"text-align: right;\">\n",
              "      <th></th>\n",
              "      <th>budget</th>\n",
              "      <th>genres</th>\n",
              "      <th>homepage</th>\n",
              "      <th>id</th>\n",
              "      <th>keywords</th>\n",
              "      <th>original_language</th>\n",
              "      <th>original_title</th>\n",
              "      <th>overview</th>\n",
              "      <th>popularity</th>\n",
              "      <th>production_companies</th>\n",
              "      <th>production_countries</th>\n",
              "      <th>release_date</th>\n",
              "      <th>revenue</th>\n",
              "      <th>runtime</th>\n",
              "      <th>spoken_languages</th>\n",
              "      <th>status</th>\n",
              "      <th>tagline</th>\n",
              "      <th>title</th>\n",
              "      <th>vote_average</th>\n",
              "      <th>vote_count</th>\n",
              "      <th>tittle</th>\n",
              "      <th>cast</th>\n",
              "      <th>crew</th>\n",
              "    </tr>\n",
              "  </thead>\n",
              "  <tbody>\n",
              "    <tr>\n",
              "      <th>0</th>\n",
              "      <td>237000000</td>\n",
              "      <td>[{\"id\": 28, \"name\": \"Action\"}, {\"id\": 12, \"nam...</td>\n",
              "      <td>http://www.avatarmovie.com/</td>\n",
              "      <td>19995</td>\n",
              "      <td>[{\"id\": 1463, \"name\": \"culture clash\"}, {\"id\":...</td>\n",
              "      <td>en</td>\n",
              "      <td>Avatar</td>\n",
              "      <td>In the 22nd century, a paraplegic Marine is di...</td>\n",
              "      <td>150.437577</td>\n",
              "      <td>[{\"name\": \"Ingenious Film Partners\", \"id\": 289...</td>\n",
              "      <td>[{\"iso_3166_1\": \"US\", \"name\": \"United States o...</td>\n",
              "      <td>2009-12-10</td>\n",
              "      <td>2787965087</td>\n",
              "      <td>162.0</td>\n",
              "      <td>[{\"iso_639_1\": \"en\", \"name\": \"English\"}, {\"iso...</td>\n",
              "      <td>Released</td>\n",
              "      <td>Enter the World of Pandora.</td>\n",
              "      <td>Avatar</td>\n",
              "      <td>7.2</td>\n",
              "      <td>11800</td>\n",
              "      <td>Avatar</td>\n",
              "      <td>[{\"cast_id\": 242, \"character\": \"Jake Sully\", \"...</td>\n",
              "      <td>[{\"credit_id\": \"52fe48009251416c750aca23\", \"de...</td>\n",
              "    </tr>\n",
              "    <tr>\n",
              "      <th>1</th>\n",
              "      <td>300000000</td>\n",
              "      <td>[{\"id\": 12, \"name\": \"Adventure\"}, {\"id\": 14, \"...</td>\n",
              "      <td>http://disney.go.com/disneypictures/pirates/</td>\n",
              "      <td>285</td>\n",
              "      <td>[{\"id\": 270, \"name\": \"ocean\"}, {\"id\": 726, \"na...</td>\n",
              "      <td>en</td>\n",
              "      <td>Pirates of the Caribbean: At World's End</td>\n",
              "      <td>Captain Barbossa, long believed to be dead, ha...</td>\n",
              "      <td>139.082615</td>\n",
              "      <td>[{\"name\": \"Walt Disney Pictures\", \"id\": 2}, {\"...</td>\n",
              "      <td>[{\"iso_3166_1\": \"US\", \"name\": \"United States o...</td>\n",
              "      <td>2007-05-19</td>\n",
              "      <td>961000000</td>\n",
              "      <td>169.0</td>\n",
              "      <td>[{\"iso_639_1\": \"en\", \"name\": \"English\"}]</td>\n",
              "      <td>Released</td>\n",
              "      <td>At the end of the world, the adventure begins.</td>\n",
              "      <td>Pirates of the Caribbean: At World's End</td>\n",
              "      <td>6.9</td>\n",
              "      <td>4500</td>\n",
              "      <td>Pirates of the Caribbean: At World's End</td>\n",
              "      <td>[{\"cast_id\": 4, \"character\": \"Captain Jack Spa...</td>\n",
              "      <td>[{\"credit_id\": \"52fe4232c3a36847f800b579\", \"de...</td>\n",
              "    </tr>\n",
              "    <tr>\n",
              "      <th>2</th>\n",
              "      <td>245000000</td>\n",
              "      <td>[{\"id\": 28, \"name\": \"Action\"}, {\"id\": 12, \"nam...</td>\n",
              "      <td>http://www.sonypictures.com/movies/spectre/</td>\n",
              "      <td>206647</td>\n",
              "      <td>[{\"id\": 470, \"name\": \"spy\"}, {\"id\": 818, \"name...</td>\n",
              "      <td>en</td>\n",
              "      <td>Spectre</td>\n",
              "      <td>A cryptic message from Bond’s past sends him o...</td>\n",
              "      <td>107.376788</td>\n",
              "      <td>[{\"name\": \"Columbia Pictures\", \"id\": 5}, {\"nam...</td>\n",
              "      <td>[{\"iso_3166_1\": \"GB\", \"name\": \"United Kingdom\"...</td>\n",
              "      <td>2015-10-26</td>\n",
              "      <td>880674609</td>\n",
              "      <td>148.0</td>\n",
              "      <td>[{\"iso_639_1\": \"fr\", \"name\": \"Fran\\u00e7ais\"},...</td>\n",
              "      <td>Released</td>\n",
              "      <td>A Plan No One Escapes</td>\n",
              "      <td>Spectre</td>\n",
              "      <td>6.3</td>\n",
              "      <td>4466</td>\n",
              "      <td>Spectre</td>\n",
              "      <td>[{\"cast_id\": 1, \"character\": \"James Bond\", \"cr...</td>\n",
              "      <td>[{\"credit_id\": \"54805967c3a36829b5002c41\", \"de...</td>\n",
              "    </tr>\n",
              "    <tr>\n",
              "      <th>3</th>\n",
              "      <td>250000000</td>\n",
              "      <td>[{\"id\": 28, \"name\": \"Action\"}, {\"id\": 80, \"nam...</td>\n",
              "      <td>http://www.thedarkknightrises.com/</td>\n",
              "      <td>49026</td>\n",
              "      <td>[{\"id\": 849, \"name\": \"dc comics\"}, {\"id\": 853,...</td>\n",
              "      <td>en</td>\n",
              "      <td>The Dark Knight Rises</td>\n",
              "      <td>Following the death of District Attorney Harve...</td>\n",
              "      <td>112.312950</td>\n",
              "      <td>[{\"name\": \"Legendary Pictures\", \"id\": 923}, {\"...</td>\n",
              "      <td>[{\"iso_3166_1\": \"US\", \"name\": \"United States o...</td>\n",
              "      <td>2012-07-16</td>\n",
              "      <td>1084939099</td>\n",
              "      <td>165.0</td>\n",
              "      <td>[{\"iso_639_1\": \"en\", \"name\": \"English\"}]</td>\n",
              "      <td>Released</td>\n",
              "      <td>The Legend Ends</td>\n",
              "      <td>The Dark Knight Rises</td>\n",
              "      <td>7.6</td>\n",
              "      <td>9106</td>\n",
              "      <td>The Dark Knight Rises</td>\n",
              "      <td>[{\"cast_id\": 2, \"character\": \"Bruce Wayne / Ba...</td>\n",
              "      <td>[{\"credit_id\": \"52fe4781c3a36847f81398c3\", \"de...</td>\n",
              "    </tr>\n",
              "    <tr>\n",
              "      <th>4</th>\n",
              "      <td>260000000</td>\n",
              "      <td>[{\"id\": 28, \"name\": \"Action\"}, {\"id\": 12, \"nam...</td>\n",
              "      <td>http://movies.disney.com/john-carter</td>\n",
              "      <td>49529</td>\n",
              "      <td>[{\"id\": 818, \"name\": \"based on novel\"}, {\"id\":...</td>\n",
              "      <td>en</td>\n",
              "      <td>John Carter</td>\n",
              "      <td>John Carter is a war-weary, former military ca...</td>\n",
              "      <td>43.926995</td>\n",
              "      <td>[{\"name\": \"Walt Disney Pictures\", \"id\": 2}]</td>\n",
              "      <td>[{\"iso_3166_1\": \"US\", \"name\": \"United States o...</td>\n",
              "      <td>2012-03-07</td>\n",
              "      <td>284139100</td>\n",
              "      <td>132.0</td>\n",
              "      <td>[{\"iso_639_1\": \"en\", \"name\": \"English\"}]</td>\n",
              "      <td>Released</td>\n",
              "      <td>Lost in our world, found in another.</td>\n",
              "      <td>John Carter</td>\n",
              "      <td>6.1</td>\n",
              "      <td>2124</td>\n",
              "      <td>John Carter</td>\n",
              "      <td>[{\"cast_id\": 5, \"character\": \"John Carter\", \"c...</td>\n",
              "      <td>[{\"credit_id\": \"52fe479ac3a36847f813eaa3\", \"de...</td>\n",
              "    </tr>\n",
              "  </tbody>\n",
              "</table>\n",
              "</div>"
            ],
            "text/plain": [
              "      budget                        ...                                                                       crew\n",
              "0  237000000                        ...                          [{\"credit_id\": \"52fe48009251416c750aca23\", \"de...\n",
              "1  300000000                        ...                          [{\"credit_id\": \"52fe4232c3a36847f800b579\", \"de...\n",
              "2  245000000                        ...                          [{\"credit_id\": \"54805967c3a36829b5002c41\", \"de...\n",
              "3  250000000                        ...                          [{\"credit_id\": \"52fe4781c3a36847f81398c3\", \"de...\n",
              "4  260000000                        ...                          [{\"credit_id\": \"52fe479ac3a36847f813eaa3\", \"de...\n",
              "\n",
              "[5 rows x 23 columns]"
            ]
          },
          "metadata": {
            "tags": []
          },
          "execution_count": 13
        }
      ]
    },
    {
      "metadata": {
        "id": "ALXRe0gGXey3",
        "colab_type": "code",
        "colab": {},
        "outputId": "3628e656-56f2-4c09-b11d-2865260d64d4"
      },
      "cell_type": "code",
      "source": [
        "#on a scale of 10\n",
        "C = tmdb_data_mov['vote_average'].mean()\n",
        "C"
      ],
      "execution_count": 0,
      "outputs": [
        {
          "output_type": "execute_result",
          "data": {
            "text/plain": [
              "6.092171559442011"
            ]
          },
          "metadata": {
            "tags": []
          },
          "execution_count": 14
        }
      ]
    },
    {
      "metadata": {
        "id": "0LlrDY4JXezC",
        "colab_type": "code",
        "colab": {},
        "outputId": "1b92c0a2-02fa-47b9-bb55-0c7070bff241"
      },
      "cell_type": "code",
      "source": [
        "val = tmdb_data_mov['vote_count'].quantile(0.85)\n",
        "val"
      ],
      "execution_count": 0,
      "outputs": [
        {
          "output_type": "execute_result",
          "data": {
            "text/plain": [
              "1300.6999999999998"
            ]
          },
          "metadata": {
            "tags": []
          },
          "execution_count": 15
        }
      ]
    },
    {
      "metadata": {
        "id": "8v-cBtp2XezW",
        "colab_type": "code",
        "colab": {},
        "outputId": "cb8ffa06-b694-48da-9b64-75b9cdcd6e20"
      },
      "cell_type": "code",
      "source": [
        "#movies that qualify our 0.85 value\n",
        "qual_movies = tmdb_data_mov.copy().loc[tmdb_data_mov['vote_count'] >= val]\n",
        "qual_movies.shape"
      ],
      "execution_count": 0,
      "outputs": [
        {
          "output_type": "execute_result",
          "data": {
            "text/plain": [
              "(721, 23)"
            ]
          },
          "metadata": {
            "tags": []
          },
          "execution_count": 16
        }
      ]
    },
    {
      "metadata": {
        "id": "2deFLcAJXezr",
        "colab_type": "code",
        "colab": {}
      },
      "cell_type": "code",
      "source": [
        "\"\"\" weighted rating (WR) = (v ÷ (v+m)) × R + (m ÷ (v+m)) × C where:\n",
        "R = average for the movie (mean) = (Rating)\n",
        "v = number of votes for the movie = (votes)\n",
        "m = minimum votes required to be listed in the Top 250 (currently 25000)\n",
        "C = the mean vote across the whole report (currently 7.0)\n",
        "\"\"\"\n",
        "\n",
        "def weig_range(x,m=val,C=C):\n",
        "    v = x['vote_count']\n",
        "    R = x['vote_average']\n",
        "    return (v / (v+m) * R) + (m / (m+v) * C)\n",
        "    \n"
      ],
      "execution_count": 0,
      "outputs": []
    },
    {
      "metadata": {
        "id": "3Bwy9g4vXez9",
        "colab_type": "code",
        "colab": {}
      },
      "cell_type": "code",
      "source": [
        "qual_movies['scores'] = qual_movies.apply(weig_range,axis=1)\n"
      ],
      "execution_count": 0,
      "outputs": []
    },
    {
      "metadata": {
        "id": "dMw3WLZfXe0G",
        "colab_type": "code",
        "colab": {},
        "outputId": "5b8e7afc-8ec9-4a50-af12-7e29775cc513"
      },
      "cell_type": "code",
      "source": [
        "qual_movies = qual_movies.sort_values('scores', ascending=False)\n",
        "\n",
        "#Print the top 10 movies\n",
        "qual_movies[['title', 'vote_count', 'vote_average', 'scores']].head(10)"
      ],
      "execution_count": 0,
      "outputs": [
        {
          "output_type": "execute_result",
          "data": {
            "text/html": [
              "<div>\n",
              "<style scoped>\n",
              "    .dataframe tbody tr th:only-of-type {\n",
              "        vertical-align: middle;\n",
              "    }\n",
              "\n",
              "    .dataframe tbody tr th {\n",
              "        vertical-align: top;\n",
              "    }\n",
              "\n",
              "    .dataframe thead th {\n",
              "        text-align: right;\n",
              "    }\n",
              "</style>\n",
              "<table border=\"1\" class=\"dataframe\">\n",
              "  <thead>\n",
              "    <tr style=\"text-align: right;\">\n",
              "      <th></th>\n",
              "      <th>title</th>\n",
              "      <th>vote_count</th>\n",
              "      <th>vote_average</th>\n",
              "      <th>scores</th>\n",
              "    </tr>\n",
              "  </thead>\n",
              "  <tbody>\n",
              "    <tr>\n",
              "      <th>1881</th>\n",
              "      <td>The Shawshank Redemption</td>\n",
              "      <td>8205</td>\n",
              "      <td>8.5</td>\n",
              "      <td>8.170528</td>\n",
              "    </tr>\n",
              "    <tr>\n",
              "      <th>662</th>\n",
              "      <td>Fight Club</td>\n",
              "      <td>9413</td>\n",
              "      <td>8.3</td>\n",
              "      <td>8.031958</td>\n",
              "    </tr>\n",
              "    <tr>\n",
              "      <th>3232</th>\n",
              "      <td>Pulp Fiction</td>\n",
              "      <td>8428</td>\n",
              "      <td>8.3</td>\n",
              "      <td>8.004820</td>\n",
              "    </tr>\n",
              "    <tr>\n",
              "      <th>65</th>\n",
              "      <td>The Dark Knight</td>\n",
              "      <td>12002</td>\n",
              "      <td>8.2</td>\n",
              "      <td>7.993903</td>\n",
              "    </tr>\n",
              "    <tr>\n",
              "      <th>3337</th>\n",
              "      <td>The Godfather</td>\n",
              "      <td>5893</td>\n",
              "      <td>8.4</td>\n",
              "      <td>7.982719</td>\n",
              "    </tr>\n",
              "    <tr>\n",
              "      <th>96</th>\n",
              "      <td>Inception</td>\n",
              "      <td>13752</td>\n",
              "      <td>8.1</td>\n",
              "      <td>7.926504</td>\n",
              "    </tr>\n",
              "    <tr>\n",
              "      <th>809</th>\n",
              "      <td>Forrest Gump</td>\n",
              "      <td>7927</td>\n",
              "      <td>8.2</td>\n",
              "      <td>7.902889</td>\n",
              "    </tr>\n",
              "    <tr>\n",
              "      <th>95</th>\n",
              "      <td>Interstellar</td>\n",
              "      <td>10867</td>\n",
              "      <td>8.1</td>\n",
              "      <td>7.885368</td>\n",
              "    </tr>\n",
              "    <tr>\n",
              "      <th>329</th>\n",
              "      <td>The Lord of the Rings: The Return of the King</td>\n",
              "      <td>8064</td>\n",
              "      <td>8.1</td>\n",
              "      <td>7.821125</td>\n",
              "    </tr>\n",
              "    <tr>\n",
              "      <th>1990</th>\n",
              "      <td>The Empire Strikes Back</td>\n",
              "      <td>5879</td>\n",
              "      <td>8.2</td>\n",
              "      <td>7.818138</td>\n",
              "    </tr>\n",
              "  </tbody>\n",
              "</table>\n",
              "</div>"
            ],
            "text/plain": [
              "                                              title    ...       scores\n",
              "1881                       The Shawshank Redemption    ...     8.170528\n",
              "662                                      Fight Club    ...     8.031958\n",
              "3232                                   Pulp Fiction    ...     8.004820\n",
              "65                                  The Dark Knight    ...     7.993903\n",
              "3337                                  The Godfather    ...     7.982719\n",
              "96                                        Inception    ...     7.926504\n",
              "809                                    Forrest Gump    ...     7.902889\n",
              "95                                     Interstellar    ...     7.885368\n",
              "329   The Lord of the Rings: The Return of the King    ...     7.821125\n",
              "1990                        The Empire Strikes Back    ...     7.818138\n",
              "\n",
              "[10 rows x 4 columns]"
            ]
          },
          "metadata": {
            "tags": []
          },
          "execution_count": 19
        }
      ]
    },
    {
      "metadata": {
        "id": "_xh1y1iYXe0P",
        "colab_type": "code",
        "colab": {},
        "outputId": "bce57b69-f640-495e-b0dc-cf26c8a9ce4e"
      },
      "cell_type": "code",
      "source": [
        "# TOP 10 MOVIES according to popularity\n",
        "\n",
        "popular = tmdb_data_mov.sort_values('popularity',ascending= False)\n",
        "sn.barplot(popular['popularity'].head(10),popular['title'].head(10))\n",
        "plt.show()\n",
        "\n"
      ],
      "execution_count": 0,
      "outputs": [
        {
          "output_type": "display_data",
          "data": {
            "image/png": "[encoded data removed]",
            "text/plain": [
              "<Figure size 432x288 with 1 Axes>"
            ]
          },
          "metadata": {
            "tags": []
          }
        }
      ]
    }
  ]
}