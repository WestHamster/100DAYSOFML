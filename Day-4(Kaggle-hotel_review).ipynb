{
  "nbformat": 4,
  "nbformat_minor": 0,
  "metadata": {
    "colab": {
      "name": "hotel-review.ipynb",
      "version": "0.3.2",
      "provenance": []
    },
    "kernelspec": {
      "display_name": "Python 3",
      "language": "python",
      "name": "python3"
    }
  },
  "cells": [
    {
      "metadata": {
        "_cell_guid": "b1076dfc-b9ad-4769-8c92-a6c4dae69d19",
        "_uuid": "8f2839f25d086af736a60e9eeb907d3b93b6e0e5",
        "id": "xEicMeTXwTua",
        "colab_type": "code",
        "colab": {},
        "outputId": "db625df5-8865-4b1f-f85d-cf7c72ae4ea3"
      },
      "cell_type": "code",
      "source": [
        "# This Python 3 environment comes with many helpful analytics libraries installed\n",
        "# It is defined by the kaggle/python docker image: https://github.com/kaggle/docker-python\n",
        "# For example, here's several helpful packages to load in \n",
        "\n",
        "import numpy as np # linear algebra\n",
        "import pandas as pd # data processing, CSV file I/O (e.g. pd.read_csv)\n",
        "import matplotlib.pyplot as plt\n",
        "import seaborn as sn\n",
        "\n",
        "# Input data files are available in the \"../input/\" directory.\n",
        "# For example, running this (by clicking run or pressing Shift+Enter) will list the files in the input directory\n",
        "\n",
        "from subprocess import check_output\n",
        "print(check_output([\"ls\", \"../input\"]).decode(\"utf8\"))\n",
        "\n",
        "import warnings\n",
        "warnings.filterwarnings('ignore')\n",
        "\n",
        "# Any results you write to the current directory are saved as output."
      ],
      "execution_count": 0,
      "outputs": [
        {
          "output_type": "stream",
          "text": [
            "hotel-reviews.csv\n",
            "\n"
          ],
          "name": "stdout"
        }
      ]
    },
    {
      "metadata": {
        "_cell_guid": "79c7e3d0-c299-4dcb-8224-4455121ee9b0",
        "_uuid": "d629ff2d2480ee46fbb7e2d37f6b5fab8052498a",
        "scrolled": true,
        "id": "iTXv3Y_PwTu5",
        "colab_type": "code",
        "colab": {},
        "outputId": "d7059594-ae79-4114-c353-2a2d8c6f3a38"
      },
      "cell_type": "code",
      "source": [
        "df = pd.read_csv('../input/hotel-reviews.csv')\n",
        "print(df.columns)\n",
        "print(df.shape)"
      ],
      "execution_count": 0,
      "outputs": [
        {
          "output_type": "stream",
          "text": [
            "Index(['User_ID', 'Description', 'Browser_Used', 'Device_Used', 'Is_Response'], dtype='object')\n",
            "(38932, 5)\n"
          ],
          "name": "stdout"
        }
      ]
    },
    {
      "metadata": {
        "_uuid": "6422a8b01127105b80144f087171721659c9aa16",
        "id": "QLmsXRztwTvM",
        "colab_type": "code",
        "colab": {},
        "outputId": "71e7a243-c111-4a8c-fdb1-9238b044b3a3"
      },
      "cell_type": "code",
      "source": [
        "df = df.dropna()\n",
        "print(df.User_ID.nunique())\n",
        "print(df.Is_Response.nunique())"
      ],
      "execution_count": 0,
      "outputs": [
        {
          "output_type": "stream",
          "text": [
            "38932\n",
            "2\n"
          ],
          "name": "stdout"
        }
      ]
    },
    {
      "metadata": {
        "_uuid": "072de371849f36f97ddba61baa7411301df847d5",
        "id": "uDKD2FEtwTvd",
        "colab_type": "code",
        "colab": {},
        "outputId": "1f6e648e-da90-4ed8-8168-352541516c8a"
      },
      "cell_type": "code",
      "source": [
        "zero = len(df[df.Is_Response =='not happy'])\n",
        "one = len(df[df.Is_Response =='happy'])\n",
        "\n",
        "li_response = [zero,one]\n",
        "label_response = ['Not Happy','Happy']\n",
        "\n",
        "index_response = np.arange(len(li_response))\n",
        "\n",
        "sn.barplot(label_response,li_response)\n",
        "plt.show()"
      ],
      "execution_count": 0,
      "outputs": [
        {
          "output_type": "display_data",
          "data": {
            "image/png": "[encoded data removed]",
            "text/plain": [
              "<Figure size 432x288 with 1 Axes>"
            ]
          },
          "metadata": {
            "tags": []
          }
        }
      ]
    },
    {
      "metadata": {
        "_uuid": "103b4c526293d0d888e29c3ea62f356d877855c0",
        "id": "srHKUZ23wTvv",
        "colab_type": "code",
        "colab": {},
        "outputId": "eb93b075-4309-45f9-b1bd-cff2960fee6c"
      },
      "cell_type": "code",
      "source": [
        "df['Browser_Used'].shape\n",
        "df['Browser_Used'].value_counts()\n",
        "\n",
        "#Redundant values are present. eg:\"Internet Explorer\" is written as \"InternetExplorer\" / \"Explorer\", etc\n",
        "\n",
        "##MOZILLA IS MOST USED BROWSER"
      ],
      "execution_count": 0,
      "outputs": [
        {
          "output_type": "execute_result",
          "data": {
            "text/plain": [
              "Firefox              7367\n",
              "Edge                 7134\n",
              "Google Chrome        4659\n",
              "InternetExplorer     4588\n",
              "Mozilla Firefox      4328\n",
              "Mozilla              3092\n",
              "Chrome               2470\n",
              "IE                   2439\n",
              "Internet Explorer    2103\n",
              "Safari                390\n",
              "Opera                 362\n",
              "Name: Browser_Used, dtype: int64"
            ]
          },
          "metadata": {
            "tags": []
          },
          "execution_count": 5
        }
      ]
    },
    {
      "metadata": {
        "_uuid": "c886bab4369977bd61444b063a2e7c2d9845fcb7",
        "id": "EGLs_A2vwTwB",
        "colab_type": "code",
        "colab": {},
        "outputId": "670908dd-18cf-492e-d8a4-08ab8562baea"
      },
      "cell_type": "code",
      "source": [
        "device = df.Device_Used\n",
        "desktop = len(device[device=='Desktop'])\n",
        "mobile = len(device[device=='Mobile'])\n",
        "tablet = len(device[device=='Tablet'])\n",
        "print(device.value_counts())\n",
        "label_device = ['Desktop','Mobile','Tablet']\n",
        "li_device = [desktop,mobile,tablet]\n",
        "\n",
        "index_device = np.arange(len(label_device))\n",
        "\n",
        "sn.barplot(label_device,li_device)\n",
        "plt.show()"
      ],
      "execution_count": 0,
      "outputs": [
        {
          "output_type": "stream",
          "text": [
            "Desktop    15026\n",
            "Mobile     14976\n",
            "Tablet      8930\n",
            "Name: Device_Used, dtype: int64\n"
          ],
          "name": "stdout"
        },
        {
          "output_type": "display_data",
          "data": {
            "image/png": "[encoded data removed]",
            "text/plain": [
              "<Figure size 432x288 with 1 Axes>"
            ]
          },
          "metadata": {
            "tags": []
          }
        }
      ]
    },
    {
      "metadata": {
        "_uuid": "9721fead748c7b3ce3f9d89e627290a67de0571d",
        "id": "z5ssa1sAwTwS",
        "colab_type": "code",
        "colab": {},
        "outputId": "77d7d184-4391-4723-c914-a3af4b914202"
      },
      "cell_type": "code",
      "source": [
        "import re\n",
        "describe = df['Description']\n",
        "review_text = \" \".join(describe)\n",
        "  \n",
        "review_text = re.sub(r\"[^A-Za-z0-9(),!.?\\'\\`]\", \" \",review_text)\n",
        "review_text = re.sub(r\"\\'s\", \" 's \", review_text)\n",
        "review_text = re.sub(r\"\\'ve\", \" 've \", review_text)\n",
        "review_text = re.sub(r\"n\\'t\", \" 't \", review_text)\n",
        "review_text = re.sub(r\"\\'re\", \" 're \", review_text)\n",
        "review_text = re.sub(r\"\\'d\", \" 'd \", review_text)\n",
        "review_text = re.sub(r\"\\'ll\", \" 'll \", review_text)\n",
        "review_text = re.sub(r\",\", \" \", review_text)\n",
        "review_text = re.sub(r\"\\.\", \" \", review_text)\n",
        "review_text = re.sub(r\"!\", \" \", review_text)\n",
        "review_text = re.sub(r\"\\(\", \" ( \", review_text)\n",
        "review_text = re.sub(r\"\\)\", \" ) \", review_text)\n",
        "review_text = re.sub(r\"\\?\", \" \", review_text)\n",
        "review_text = re.sub(r\"\\s{2,}\", \" \", review_text)\n",
        "  \n",
        "describe = review_text.split()\n",
        "\n",
        "print(len(describe))"
      ],
      "execution_count": 0,
      "outputs": [
        {
          "output_type": "stream",
          "text": [
            "6202243\n"
          ],
          "name": "stdout"
        }
      ]
    },
    {
      "metadata": {
        "_uuid": "53c75ddc085434ee537f0c508c40ed6982476198",
        "id": "NeZ4DXaXwTwj",
        "colab_type": "code",
        "colab": {}
      },
      "cell_type": "code",
      "source": [
        "description = df['Description'][:20000]"
      ],
      "execution_count": 0,
      "outputs": []
    },
    {
      "metadata": {
        "_uuid": "a9e5dc1d6d93c5af1feee94e7aac2d51845e7918",
        "id": "3X6I2HbmwTww",
        "colab_type": "code",
        "colab": {}
      },
      "cell_type": "code",
      "source": [
        "import nltk\n",
        "from nltk.corpus import stopwords\n",
        "\n",
        "stop_words = set(stopwords.words('english'))\n",
        "describe = [w for w in describe if not w in stop_words]"
      ],
      "execution_count": 0,
      "outputs": []
    },
    {
      "metadata": {
        "_uuid": "0b5eb67626d4972bdfd71745ca906cdffa0acff9",
        "id": "oEHYjkCSwTw9",
        "colab_type": "code",
        "colab": {},
        "outputId": "e9e4ecf3-4205-4b69-d1aa-b152d13ec9e1"
      },
      "cell_type": "code",
      "source": [
        "len(describe)"
      ],
      "execution_count": 0,
      "outputs": [
        {
          "output_type": "execute_result",
          "data": {
            "text/plain": [
              "3524598"
            ]
          },
          "metadata": {
            "tags": []
          },
          "execution_count": 10
        }
      ]
    },
    {
      "metadata": {
        "_uuid": "3deb9c42646932517fe5e383169dee603170ae8b",
        "id": "Xchssz8kwTxO",
        "colab_type": "code",
        "colab": {}
      },
      "cell_type": "code",
      "source": [
        "X = df.iloc[:,1:4]\n",
        "Y = df.iloc[:20000,-1].factorize()[0]\n",
        "Y= Y.astype('int')"
      ],
      "execution_count": 0,
      "outputs": []
    },
    {
      "metadata": {
        "_uuid": "bbd23e9226d9b7fa550973e3ba0641fb06691112",
        "id": "Eu2I0CuFwTxb",
        "colab_type": "code",
        "colab": {},
        "outputId": "9459d6a8-db39-482d-db1e-b90b008acaa1"
      },
      "cell_type": "code",
      "source": [
        "#**No. of FEATURES in this is less so there is no use of performing Select K Best or any Feature Importance**#\n",
        "from sklearn.feature_extraction.text import TfidfVectorizer\n",
        "from sklearn.model_selection import train_test_split \n",
        "from sklearn.metrics import accuracy_score\n",
        "\n",
        "tfidf = TfidfVectorizer(sublinear_tf = True,min_df =5,encoding='latin-1',ngram_range=(1,2),stop_words='english')\n",
        "features = tfidf.fit_transform(description).toarray()\n",
        "labels = Y\n",
        "\n",
        "print(features.shape)\n",
        "print(labels.shape)"
      ],
      "execution_count": 0,
      "outputs": [
        {
          "output_type": "stream",
          "text": [
            "(20000, 47262)\n",
            "(20000,)\n"
          ],
          "name": "stdout"
        }
      ]
    },
    {
      "metadata": {
        "_uuid": "da3f57a6ffbaeec77a746c70ec037b8d42fd8115",
        "id": "2eMLg7juwTxs",
        "colab_type": "code",
        "colab": {}
      },
      "cell_type": "code",
      "source": [
        "X_train, X_test, Y_train, Y_test = train_test_split(features,labels,test_size=0.2,random_state=20)\n"
      ],
      "execution_count": 0,
      "outputs": []
    },
    {
      "metadata": {
        "_uuid": "1f35e5850e5ec7c7eefe7ac2accb49aedf9b32e9",
        "scrolled": true,
        "id": "Sg2AZtrUwTx7",
        "colab_type": "code",
        "colab": {},
        "outputId": "4b0f0a76-24bd-4d06-da45-f634a4c2dcb2"
      },
      "cell_type": "code",
      "source": [
        "from sklearn.linear_model import LogisticRegression\n",
        "from sklearn.metrics import mean_squared_error,confusion_matrix\n",
        "\n",
        "clf = LogisticRegression(random_state=30,solver='lbfgs',multi_class='ovr').fit(X_train,Y_train)\n",
        "y_pred = clf.predict(X_test)\n",
        "print(\"Accuracy Score:\",clf.score(X_test,Y_test))   #OR np.mean(y_pred == Y_test)"
      ],
      "execution_count": 0,
      "outputs": [
        {
          "output_type": "stream",
          "text": [
            "Accuracy Score: 0.87275\n"
          ],
          "name": "stdout"
        }
      ]
    },
    {
      "metadata": {
        "_uuid": "6eb38014cd4e8a4cab9bc917ea2a5bedaa77760c",
        "id": "9j4SMApPwTyR",
        "colab_type": "code",
        "colab": {},
        "outputId": "0093ef3c-8a39-44a3-a6de-eaa76f41b79a"
      },
      "cell_type": "code",
      "source": [
        "from sklearn.metrics import mean_squared_error\n",
        "from sklearn.metrics import confusion_matrix\n",
        "mse = mean_squared_error(Y_test,y_pred)\n",
        "print(mse)\n",
        "\n",
        "sn.heatmap(confusion_matrix(Y_test,y_pred),annot=True,cmap='RdYlBu')\n",
        "plt.show()"
      ],
      "execution_count": 0,
      "outputs": [
        {
          "output_type": "stream",
          "text": [
            "0.12725\n"
          ],
          "name": "stdout"
        },
        {
          "output_type": "display_data",
          "data": {
            "image/png": "[encoded data removed]",
            "text/plain": [
              "<Figure size 432x288 with 2 Axes>"
            ]
          },
          "metadata": {
            "tags": []
          }
        }
      ]
    }
  ]
}